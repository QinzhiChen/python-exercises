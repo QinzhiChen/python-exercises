{
 "cells": [
  {
   "cell_type": "code",
   "execution_count": 21,
   "id": "c1bd1f47",
   "metadata": {},
   "outputs": [
    {
     "name": "stdout",
     "output_type": "stream",
     "text": [
      "Enter the day here: Tuesday\n",
      "it is not Monday\n"
     ]
    }
   ],
   "source": [
    "# when today is Monday\n",
    "day=input('Enter the day here: ')\n",
    "if day == \"Monday\":\n",
    "    print('it is Monday')\n",
    "else:\n",
    "    print ('it is not Monday')"
   ]
  },
  {
   "cell_type": "code",
   "execution_count": 26,
   "id": "0f37325b",
   "metadata": {},
   "outputs": [
    {
     "name": "stdout",
     "output_type": "stream",
     "text": [
      "Enter the day here: Saturday\n",
      "it is weekend\n"
     ]
    }
   ],
   "source": [
    "#  when today is weekday\n",
    "weekday=input(\"Enter the day here: \")\n",
    "if weekday==\"Monday\"or weekday==\"Tuesday\"or weekday=='Wednesday'or weekday=='Thursday'or weekday=='Friday':\n",
    "    print('it is weekday')\n",
    "else:\n",
    "    print('it is weekend')"
   ]
  },
  {
   "cell_type": "code",
   "execution_count": 49,
   "id": "3c0d9f5d",
   "metadata": {},
   "outputs": [
    {
     "name": "stdout",
     "output_type": "stream",
     "text": [
      "How Many hours you work last week: 168\n",
      "This many number does not existed in this world yet, go back to your planet\n"
     ]
    }
   ],
   "source": [
    "#  create a variable that calculate the total and when working hour greater than 40 the extra hours equal to 1.5 times hourly rate\n",
    "hour_worked=float(input(\"How Many hours you work last week: \"))\n",
    "hourly_rate=30\n",
    "total = hour_worked*hourly_rate\n",
    "if 168>hour_worked > 40:\n",
    "    print(total =(hour_worked-40)*(hourly_rate*1.5)+(40*hourly_rate))\n",
    "if hour_worked<=40:\n",
    "    print(total =hour_worked*hourly_rate)\n",
    "if hour_worked>=168:\n",
    "    print('This many hours do not existed in a week yet, go back to your planet')"
   ]
  },
  {
   "cell_type": "code",
   "execution_count": 50,
   "id": "2fec96a1",
   "metadata": {},
   "outputs": [
    {
     "name": "stdout",
     "output_type": "stream",
     "text": [
      "5\n",
      "6\n",
      "7\n",
      "8\n",
      "9\n",
      "10\n",
      "11\n",
      "12\n",
      "13\n",
      "14\n",
      "15\n"
     ]
    }
   ],
   "source": [
    "# create a while loop when i =5 and i+1 while i is less and equal to 15\n",
    "i = 5\n",
    "while i <= 15:\n",
    "    print(i)\n",
    "    i += 1"
   ]
  },
  {
   "cell_type": "code",
   "execution_count": 3,
   "id": "a9ffd84d",
   "metadata": {},
   "outputs": [
    {
     "name": "stdout",
     "output_type": "stream",
     "text": [
      "0\n",
      "------\n",
      "2\n",
      "------\n",
      "4\n",
      "------\n",
      "6\n",
      "------\n",
      "8\n",
      "------\n",
      "10\n",
      "------\n",
      "12\n",
      "------\n",
      "14\n",
      "------\n",
      "16\n",
      "------\n",
      "18\n",
      "------\n",
      "20\n",
      "------\n",
      "22\n",
      "------\n",
      "24\n",
      "------\n",
      "26\n",
      "------\n",
      "28\n",
      "------\n",
      "30\n",
      "------\n",
      "32\n",
      "------\n",
      "34\n",
      "------\n",
      "36\n",
      "------\n",
      "38\n",
      "------\n",
      "40\n",
      "------\n",
      "42\n",
      "------\n",
      "44\n",
      "------\n",
      "46\n",
      "------\n",
      "48\n",
      "------\n",
      "50\n",
      "------\n",
      "52\n",
      "------\n",
      "54\n",
      "------\n",
      "56\n",
      "------\n",
      "58\n",
      "------\n",
      "60\n",
      "------\n",
      "62\n",
      "------\n",
      "64\n",
      "------\n",
      "66\n",
      "------\n",
      "68\n",
      "------\n",
      "70\n",
      "------\n",
      "72\n",
      "------\n",
      "74\n",
      "------\n",
      "76\n",
      "------\n",
      "78\n",
      "------\n",
      "80\n",
      "------\n",
      "82\n",
      "------\n",
      "84\n",
      "------\n",
      "86\n",
      "------\n",
      "88\n",
      "------\n",
      "90\n",
      "------\n",
      "92\n",
      "------\n",
      "94\n",
      "------\n",
      "96\n",
      "------\n",
      "98\n",
      "------\n",
      "100\n",
      "------\n"
     ]
    }
   ],
   "source": [
    "# create a while loop that will count by 2s\n",
    "i=0\n",
    "while i <=100:\n",
    "    print(i)\n",
    "    print('------')\n",
    "    i += 2"
   ]
  },
  {
   "cell_type": "code",
   "execution_count": 8,
   "id": "1e9ad37e",
   "metadata": {},
   "outputs": [
    {
     "name": "stdout",
     "output_type": "stream",
     "text": [
      "100\n",
      "------\n",
      "95\n",
      "------\n",
      "90\n",
      "------\n",
      "85\n",
      "------\n",
      "80\n",
      "------\n",
      "75\n",
      "------\n",
      "70\n",
      "------\n",
      "65\n",
      "------\n",
      "60\n",
      "------\n",
      "55\n",
      "------\n",
      "50\n",
      "------\n",
      "45\n",
      "------\n",
      "40\n",
      "------\n",
      "35\n",
      "------\n",
      "30\n",
      "------\n",
      "25\n",
      "------\n",
      "20\n",
      "------\n",
      "15\n",
      "------\n",
      "10\n",
      "------\n",
      "5\n",
      "------\n",
      "0\n",
      "------\n",
      "-5\n",
      "------\n",
      "-10\n",
      "------\n"
     ]
    }
   ],
   "source": [
    "# alter loop to count backwards by 5s from 100 to -10\n",
    "i=100\n",
    "while i >= -10:\n",
    "    print(i)\n",
    "    print('------')\n",
    "    i -= 5"
   ]
  },
  {
   "cell_type": "code",
   "execution_count": 37,
   "id": "c54d5b67",
   "metadata": {},
   "outputs": [
    {
     "name": "stdout",
     "output_type": "stream",
     "text": [
      "2\n",
      "------\n",
      "4\n",
      "------\n",
      "16\n",
      "------\n",
      "256\n",
      "------\n",
      "65536\n",
      "------\n"
     ]
    }
   ],
   "source": [
    "# alter loop to start with 2 and display the number square on each line while the number is less than 1,000000\n",
    "i=2\n",
    "while i <=1000000:\n",
    "    print(i)\n",
    "    print('------')\n",
    "    i **= 2"
   ]
  },
  {
   "cell_type": "code",
   "execution_count": 17,
   "id": "e34f917b",
   "metadata": {},
   "outputs": [
    {
     "name": "stdout",
     "output_type": "stream",
     "text": [
      "100\n",
      "------\n",
      "95\n",
      "------\n",
      "90\n",
      "------\n",
      "85\n",
      "------\n",
      "80\n",
      "------\n",
      "75\n",
      "------\n",
      "70\n",
      "------\n",
      "65\n",
      "------\n",
      "60\n",
      "------\n",
      "55\n",
      "------\n",
      "50\n",
      "------\n",
      "45\n",
      "------\n",
      "40\n",
      "------\n",
      "35\n",
      "------\n",
      "30\n",
      "------\n",
      "25\n",
      "------\n",
      "20\n",
      "------\n",
      "15\n",
      "------\n",
      "10\n",
      "------\n",
      "5\n",
      "------\n"
     ]
    }
   ],
   "source": [
    "# alter loop to count backwards by 5s from 100 to 5\n",
    "i=100\n",
    "while i >= 5:\n",
    "    print(i)\n",
    "    print('------')\n",
    "    i -= 5"
   ]
  },
  {
   "cell_type": "code",
   "execution_count": 36,
   "id": "5fedcbc8",
   "metadata": {},
   "outputs": [
    {
     "name": "stdout",
     "output_type": "stream",
     "text": [
      "8.5\n",
      "8.5 x 1 = 8.5\n",
      "8.5 x 2 = 17.0\n",
      "8.5 x 3 = 25.5\n",
      "8.5 x 4 = 34.0\n",
      "8.5 x 5 = 42.5\n",
      "8.5 x 6 = 51.0\n",
      "8.5 x 7 = 59.5\n",
      "8.5 x 8 = 68.0\n",
      "8.5 x 9 = 76.5\n",
      "8.5 x 10 = 85.0\n"
     ]
    }
   ],
   "source": [
    "# creating a float or int for output to times from 1-10\n",
    "n=float(input())\n",
    "for i in range(1,11):\n",
    "    print(n,'x',i,'=',i*n)"
   ]
  },
  {
   "cell_type": "code",
   "execution_count": 53,
   "id": "3a1c1a99",
   "metadata": {},
   "outputs": [
    {
     "name": "stdout",
     "output_type": "stream",
     "text": [
      "1\n",
      "22\n",
      "333\n",
      "4444\n",
      "55555\n",
      "666666\n",
      "7777777\n",
      "88888888\n",
      "999999999\n"
     ]
    }
   ],
   "source": [
    "# creating for loop with prescribed answer\n",
    "for i in range(1,10):\n",
    "    for k in range (1,i+1):\n",
    "        print(i,end=\"\")\n",
    "    print()"
   ]
  },
  {
   "cell_type": "code",
   "execution_count": 84,
   "id": "877e304c",
   "metadata": {},
   "outputs": [
    {
     "name": "stdout",
     "output_type": "stream",
     "text": [
      "Number to skip is: 0\n",
      "Here is an odd number:  1\n",
      "Here is an odd number:  3\n",
      "Here is an odd number:  5\n",
      "Here is an odd number:  7\n",
      "Here is an odd number:  9\n",
      "Here is an odd number:  11\n",
      "Here is an odd number:  13\n",
      "Here is an odd number:  15\n",
      "Here is an odd number:  17\n",
      "Here is an odd number:  19\n",
      "Here is an odd number:  21\n",
      "Here is an odd number:  23\n",
      "Here is an odd number:  25\n",
      "Here is an odd number:  27\n",
      "Here is an odd number:  29\n",
      "Here is an odd number:  31\n",
      "Here is an odd number:  33\n",
      "Here is an odd number:  35\n",
      "Here is an odd number:  37\n",
      "Here is an odd number:  39\n",
      "Here is an odd number:  41\n",
      "Here is an odd number:  43\n",
      "Here is an odd number:  45\n",
      "Here is an odd number:  47\n",
      "Here is an odd number:  49\n"
     ]
    }
   ],
   "source": [
    "# Creating a for loop to skip ipput odd number\n",
    "n=int(input(\"Number to skip is: \")) \n",
    "number=n\n",
    "for n in range(1,50):\n",
    "    if n%2!=0 and (n!=number and n>=1):\n",
    "        print(\"Here is an odd number: \",n)\n",
    "    if number==n:\n",
    "        print('Yikes!Skipping number: ',n)\n",
    "        continue\n",
    "        break\n",
    "if n ==str():\n",
    "    print(\"Please enter valid number\")\n",
    "    \n",
    "     else:\n",
    "        print('Pick a number between 1-50')\n",
    "\n"
   ]
  },
  {
   "cell_type": "code",
   "execution_count": 94,
   "id": "9ca2daec",
   "metadata": {},
   "outputs": [
    {
     "name": "stdout",
     "output_type": "stream",
     "text": [
      "your input: 12\n",
      "0\n",
      "1\n",
      "2\n",
      "3\n",
      "4\n",
      "5\n",
      "6\n",
      "7\n",
      "8\n",
      "9\n",
      "10\n",
      "11\n",
      "12\n"
     ]
    }
   ],
   "source": [
    "n=int(input(\"your input: \"))\n",
    "for number in range(n+1):\n",
    "    print(number)"
   ]
  },
  {
   "cell_type": "markdown",
   "id": "a75c2d7e",
   "metadata": {},
   "source": [
    "n=int(input(\"your input: \"))\n",
    "for number in range(n+1):\n",
    "    print(reversed(number))"
   ]
  },
  {
   "cell_type": "code",
   "execution_count": 131,
   "id": "1451c0d6",
   "metadata": {},
   "outputs": [
    {
     "name": "stdout",
     "output_type": "stream",
     "text": [
      "your input: 21\n",
      "21\n",
      "20\n",
      "19\n",
      "18\n",
      "17\n",
      "16\n",
      "15\n",
      "14\n",
      "13\n",
      "12\n",
      "11\n",
      "10\n",
      "9\n",
      "8\n",
      "7\n",
      "6\n",
      "5\n",
      "4\n",
      "3\n",
      "2\n",
      "1\n"
     ]
    }
   ],
   "source": [
    "n=int(input(\"your input: \"))\n",
    "for number in reversed(range(n)):\n",
    "    n1=number+1\n",
    "    print(n1)"
   ]
  },
  {
   "cell_type": "code",
   "execution_count": 132,
   "id": "7bc423ac",
   "metadata": {},
   "outputs": [
    {
     "name": "stdout",
     "output_type": "stream",
     "text": [
      "1\n",
      "2\n",
      "3\n",
      "4\n",
      "5\n",
      "6\n",
      "7\n",
      "8\n",
      "9\n",
      "10\n",
      "11\n",
      "12\n",
      "13\n",
      "14\n",
      "15\n",
      "16\n",
      "17\n",
      "18\n",
      "19\n",
      "20\n",
      "21\n",
      "22\n",
      "23\n",
      "24\n",
      "25\n",
      "26\n",
      "27\n",
      "28\n",
      "29\n",
      "30\n",
      "31\n",
      "32\n",
      "33\n",
      "34\n",
      "35\n",
      "36\n",
      "37\n",
      "38\n",
      "39\n",
      "40\n",
      "41\n",
      "42\n",
      "43\n",
      "44\n",
      "45\n",
      "46\n",
      "47\n",
      "48\n",
      "49\n",
      "50\n",
      "51\n",
      "52\n",
      "53\n",
      "54\n",
      "55\n",
      "56\n",
      "57\n",
      "58\n",
      "59\n",
      "60\n",
      "61\n",
      "62\n",
      "63\n",
      "64\n",
      "65\n",
      "66\n",
      "67\n",
      "68\n",
      "69\n",
      "70\n",
      "71\n",
      "72\n",
      "73\n",
      "74\n",
      "75\n",
      "76\n",
      "77\n",
      "78\n",
      "79\n",
      "80\n",
      "81\n",
      "82\n",
      "83\n",
      "84\n",
      "85\n",
      "86\n",
      "87\n",
      "88\n",
      "89\n",
      "90\n",
      "91\n",
      "92\n",
      "93\n",
      "94\n",
      "95\n",
      "96\n",
      "97\n",
      "98\n",
      "99\n",
      "100\n"
     ]
    }
   ],
   "source": [
    "#  write a program counting from 1-100\n",
    "for n in range (1,101):\n",
    "    print(n)"
   ]
  },
  {
   "cell_type": "code",
   "execution_count": 95,
   "id": "fc0a0789",
   "metadata": {},
   "outputs": [
    {
     "name": "stdout",
     "output_type": "stream",
     "text": [
      "Your input Number: 12\n",
      "Fizz\n"
     ]
    }
   ],
   "source": [
    "number=int(input(\"Your input Number: \"))\n",
    "if number %3==0:\n",
    "    print('Fizz')\n",
    "else:\n",
    "    print(number)"
   ]
  },
  {
   "cell_type": "code",
   "execution_count": 96,
   "id": "2b9b0da0",
   "metadata": {},
   "outputs": [
    {
     "name": "stdout",
     "output_type": "stream",
     "text": [
      "Your input Number: 15\n",
      "Buzz\n"
     ]
    }
   ],
   "source": [
    "number=int(input(\"Your input Number: \"))\n",
    "if number %5==0:\n",
    "    print('Buzz')\n",
    "else:\n",
    "    print(number)"
   ]
  },
  {
   "cell_type": "code",
   "execution_count": 2,
   "id": "715a980a",
   "metadata": {},
   "outputs": [
    {
     "name": "stdout",
     "output_type": "stream",
     "text": [
      "Your input Number90\n",
      "FizzBuzz\n"
     ]
    }
   ],
   "source": [
    "number=int(input(\"Your input Number\"))\n",
    "if number %5==0 and number %3==0:\n",
    "    print('FizzBuzz')\n",
    "else:\n",
    "    print(number)"
   ]
  },
  {
   "cell_type": "code",
   "execution_count": 19,
   "id": "7d5a9288",
   "metadata": {},
   "outputs": [
    {
     "name": "stdout",
     "output_type": "stream",
     "text": [
      "What number would you like to go up to? 10\n",
      "Here is your table!\n",
      "------  ------  -----\n",
      "number  square  cubed\n",
      "10      100     1000\n",
      "------  ------  -----\n",
      "enter number to continue, otherwise type\"00\" to stop12\n",
      "------  ------  -----\n",
      "number  square  cubed\n",
      "12      144     1728\n",
      "------  ------  -----\n",
      "enter number to continue, otherwise type\"00\" to stop09\n",
      "------  ------  -----\n",
      "number  square  cubed\n",
      "9       81      729\n",
      "------  ------  -----\n",
      "enter number to continue, otherwise type\"00\" to stop00\n",
      "Okay,bye!\n"
     ]
    }
   ],
   "source": [
    "from tabulate import tabulate\n",
    "n=int(input('What number would you like to go up to? '))\n",
    "print('Here is your table!')\n",
    "while True:\n",
    "    table=[['number','square','cubed'],[n,n**2,n**3]]\n",
    "    print(tabulate(table))\n",
    "    n=int(input('enter number to continue, otherwise type\"00\" to stop'))\n",
    "    if n == 00:\n",
    "        print('Okay,bye!')\n",
    "        break"
   ]
  },
  {
   "cell_type": "code",
   "execution_count": 11,
   "id": "bc12bb9d",
   "metadata": {},
   "outputs": [
    {
     "name": "stdout",
     "output_type": "stream",
     "text": [
      "Please enter your grade: 0\n",
      "Your letter grade is F\n",
      "enter number to continue, otherwise type\"-1\" to stop0\n",
      "Your letter grade is F\n",
      "enter number to continue, otherwise type\"-1\" to stop-1\n",
      "Okay, Bye!\n"
     ]
    }
   ],
   "source": [
    "n=float(input('Please enter your grade: '))\n",
    "while True:\n",
    "    if n>100:\n",
    "        print ('Please enter number between 1-100, or 0 :(')\n",
    "    if n<=100 and n>=88:\n",
    "        print(\"Your letter grade is A\")\n",
    "    if n<88 and n>=80:\n",
    "        print(\"Your letter grade is B\")\n",
    "    if n<80 and n>=67:\n",
    "        print(\"Your letter grade is C\")\n",
    "    if n<67 and n>=60:\n",
    "        print(\"Your letter grade is D\")\n",
    "    if n<60 and n>=0:\n",
    "        print(\"Your letter grade is F\")\n",
    "    n=int(input('enter number to continue, otherwise type\"-1\" to stop: '))\n",
    "    if n == int('-1'):\n",
    "        print('Okay, Bye!')\n",
    "        break"
   ]
  },
  {
   "cell_type": "code",
   "execution_count": 14,
   "id": "76aa51ac",
   "metadata": {},
   "outputs": [
    {
     "name": "stdout",
     "output_type": "stream",
     "text": [
      "[{'title': '1984', 'author': 'George Orwell', 'genre': 'Dystopian Fiction'}, {'title': '1985', 'author': 'George Orwell II', 'genre': 'Scientific Fiction'}, {'title': '1986', 'author': 'George Orwell III', 'genre': 'Social Science Fiction'}]\n"
     ]
    }
   ],
   "source": [
    "book=[{'title':'1984', 'author':'George Orwell','genre':\"Dystopian Fiction\"},\n",
    "         {'title':'1985', 'author':'George Orwell II','genre':\"Scientific Fiction\"},\n",
    "         {'title':'1986', 'author':'George Orwell III','genre':\"Social Science Fiction\"}]\n",
    "print(book)"
   ]
  },
  {
   "cell_type": "code",
   "execution_count": 48,
   "id": "5b4ade0e",
   "metadata": {},
   "outputs": [
    {
     "name": "stdout",
     "output_type": "stream",
     "text": [
      "Please enter the book genres: Dystopian Fiction\n",
      "1984\n",
      "1985\n",
      "1986\n"
     ]
    }
   ],
   "source": [
    "books=[{\"title\":1984, \"author\":\"George Orwell\",\"genre\":\"Dystopian Fiction\"},\n",
    "       {'title':1985, 'author':'George Orwell II',\"genre\":\"Scientific Fiction\"},\n",
    "       {'title':1986, 'author':'George Orwell III',\"genre\":\"Social Science Fiction\"}]\n",
    "b=input('Please enter the book genres: ')        \n",
    "for b in books:\n",
    "    print(b[\"title\"])"
   ]
  },
  {
   "cell_type": "code",
   "execution_count": null,
   "id": "4c001bf4",
   "metadata": {},
   "outputs": [],
   "source": []
  },
  {
   "cell_type": "code",
   "execution_count": null,
   "id": "aac89c61",
   "metadata": {},
   "outputs": [],
   "source": []
  }
 ],
 "metadata": {
  "celltoolbar": "Slideshow",
  "kernelspec": {
   "display_name": "Python 3 (ipykernel)",
   "language": "python",
   "name": "python3"
  },
  "language_info": {
   "codemirror_mode": {
    "name": "ipython",
    "version": 3
   },
   "file_extension": ".py",
   "mimetype": "text/x-python",
   "name": "python",
   "nbconvert_exporter": "python",
   "pygments_lexer": "ipython3",
   "version": "3.9.12"
  }
 },
 "nbformat": 4,
 "nbformat_minor": 5
}
