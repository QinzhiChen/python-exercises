{
 "cells": [
  {
   "cell_type": "code",
   "execution_count": 23,
   "id": "aa35ecd8",
   "metadata": {},
   "outputs": [
    {
     "name": "stdout",
     "output_type": "stream",
     "text": [
      "the total price for the rental is $ 27\n"
     ]
    }
   ],
   "source": [
    "# CREATING A DICT TO SET VALUES FOR THE MOVIES IN DAY\n",
    "rental={\"little Mermaid\":3,\"Brother Bear\":5, \"Hercules\":1}\n",
    "# set total days equal to sum of rental dict values\n",
    "total_days=sum(rental.values())\n",
    "# each day cost 3 dollar\n",
    "total_price=total_days*3\n",
    "print('the total price for the rental is $',total_price)"
   ]
  },
  {
   "cell_type": "code",
   "execution_count": 45,
   "id": "fb256aa6",
   "metadata": {},
   "outputs": [
    {
     "name": "stdout",
     "output_type": "stream",
     "text": [
      "enter hours worked for amazon,google, and facebook. seperate them with space  4 6 10\n",
      "your weekly total pay is $ 7420\n"
     ]
    }
   ],
   "source": [
    "# working as a contractor for 3 companies: Google, Amazon, and Facebook.\n",
    "# the Google pay $400/hr, Amazon $380/hr and Facebook $350/hr\n",
    "#  worked 10hr for Facebook, 6hr for google and 4hr for Amazon\n",
    "# create a dic for those companies represent the salary/hour\n",
    "salary_per_hour={\"Amazon\": 380,\"Google\": 400, \"FaceBook\": 350}\n",
    "amazon,google,facebook=[int(x) for x in input(\"enter hours worked for amazon,google, and facebook. seperate them with space  \").split()]\n",
    "total_pay=salary_per_hour[\"Amazon\"]* amazon+salary_per_hour[\"Google\"]*google+salary_per_hour[\"FaceBook\"]*facebook\n",
    "print('your weekly total pay is $',total_pay)"
   ]
  },
  {
   "cell_type": "code",
   "execution_count": 46,
   "id": "6599ceee",
   "metadata": {},
   "outputs": [
    {
     "name": "stdout",
     "output_type": "stream",
     "text": [
      "Enrollment Success\n"
     ]
    }
   ],
   "source": [
    "# create a code that will return a message. which depends on whether the class is full and schedule conflict\n",
    "#  set variable class_full and scheudle_conflict to false\n",
    "class_full=False\n",
    "schedule_conflict=False\n",
    "# set condition that if both are false then the enrollment success\n",
    "if class_full== False and schedule_conflict==False:\n",
    "    print('Enrollment Success')\n",
    "#     else will print message that enrollment is not success\n",
    "else:\n",
    "    print(\"You may have schedule conflict, or the class is full\")"
   ]
  },
  {
   "cell_type": "code",
   "execution_count": 11,
   "id": "732b6376",
   "metadata": {},
   "outputs": [
    {
     "name": "stdout",
     "output_type": "stream",
     "text": [
      "enter your items purchased or whther you are premium member2 n\n",
      "product offer not applied\n"
     ]
    }
   ],
   "source": [
    "# create a code to determine whether the product offer can be applied\n",
    "# the input variable will ask how many items and premium member status\n",
    "purchase_item,premium_member=[str(x) for x in input(\"enter your items purchased or whther you are premium member\").split()]\n",
    "# set condition if the purchase items greater than 2 or premium member is yes\n",
    "if purchase_item>\"2\" or premium_member==\"y\":\n",
    "#     print product offer applied\n",
    "    print(\"product offer applied\")\n",
    "#     else not\n",
    "else:\n",
    "    print(\"product offer not applied\")"
   ]
  },
  {
   "cell_type": "code",
   "execution_count": 24,
   "id": "3d6c78a0",
   "metadata": {},
   "outputs": [
    {
     "name": "stdout",
     "output_type": "stream",
     "text": [
      "please follow the rule to set up your username and password\n"
     ]
    }
   ],
   "source": [
    "username = 'codeup'\n",
    "password = 'notastrongpassword'\n",
    "\n",
    "if len(username) <20 and len(password)>5 and username!=password and username[0]!=(' ') and password[0]!=[' '] and username[-1]!=(' ') and password[-1]!=[' ']:\n",
    "    print('your username and password set up completed')\n",
    "else:\n",
    "    print('please follow the rule to set up your username and password')"
   ]
  },
  {
   "cell_type": "code",
   "execution_count": null,
   "id": "a8fb62ec",
   "metadata": {},
   "outputs": [],
   "source": []
  }
 ],
 "metadata": {
  "kernelspec": {
   "display_name": "Python 3 (ipykernel)",
   "language": "python",
   "name": "python3"
  },
  "language_info": {
   "codemirror_mode": {
    "name": "ipython",
    "version": 3
   },
   "file_extension": ".py",
   "mimetype": "text/x-python",
   "name": "python",
   "nbconvert_exporter": "python",
   "pygments_lexer": "ipython3",
   "version": "3.9.12"
  }
 },
 "nbformat": 4,
 "nbformat_minor": 5
}
