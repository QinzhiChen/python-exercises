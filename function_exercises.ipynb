{
 "cells": [
  {
   "cell_type": "code",
   "execution_count": 182,
   "id": "839a1bc2",
   "metadata": {},
   "outputs": [],
   "source": [
    "# first we create a function is_two\n",
    "def is_two(m):  \n",
    "# we condition that if m=2 then\n",
    "    if (m==2): \n",
    "#  the result will equal to True\n",
    "        result= True\n",
    "#  else if that m equal string 2\n",
    "    elif (m==\"2\"):\n",
    "#  the result will equal to True\n",
    "        result=True\n",
    "# we then exclude any other answers using else\n",
    "    else:\n",
    "# which the result should equal false\n",
    "        result=False\n",
    "# we then return the result\n",
    "    return result\n"
   ]
  },
  {
   "cell_type": "code",
   "execution_count": 183,
   "id": "28163bcc",
   "metadata": {},
   "outputs": [
    {
     "data": {
      "text/plain": [
       "False"
      ]
     },
     "execution_count": 183,
     "metadata": {},
     "output_type": "execute_result"
    }
   ],
   "source": [
    "# then verify that the code do what we meant it to do\n",
    "is_two(6)"
   ]
  },
  {
   "cell_type": "code",
   "execution_count": 184,
   "id": "c7ab3809",
   "metadata": {},
   "outputs": [
    {
     "data": {
      "text/plain": [
       "True"
      ]
     },
     "execution_count": 184,
     "metadata": {},
     "output_type": "execute_result"
    }
   ],
   "source": [
    "is_two(\"2\")"
   ]
  },
  {
   "cell_type": "code",
   "execution_count": 185,
   "id": "f1d62c9f",
   "metadata": {},
   "outputs": [
    {
     "data": {
      "text/plain": [
       "False"
      ]
     },
     "execution_count": 185,
     "metadata": {},
     "output_type": "execute_result"
    }
   ],
   "source": [
    "is_two('ap')"
   ]
  },
  {
   "cell_type": "code",
   "execution_count": 50,
   "id": "4f2e1d9e",
   "metadata": {},
   "outputs": [],
   "source": [
    "# define the function \n",
    "def is_vowel(m):\n",
    "# identify the variable equal to vowel\n",
    "    if m=='a' or m=='e' or m=='i' or m=='o' or m=='u' or m=='A'or m=='E'or m=='I'or m=='O'or m=='U':\n",
    "# indicate the result should be True\n",
    "        result=True\n",
    "# condition that doesn't met\n",
    "    else:\n",
    "# the result will return false\n",
    "        result=False\n",
    "# indicate the return of result\n",
    "    return result"
   ]
  },
  {
   "cell_type": "code",
   "execution_count": 51,
   "id": "198ab42a",
   "metadata": {},
   "outputs": [
    {
     "data": {
      "text/plain": [
       "False"
      ]
     },
     "execution_count": 51,
     "metadata": {},
     "output_type": "execute_result"
    }
   ],
   "source": [
    "is_vowel('m')"
   ]
  },
  {
   "cell_type": "code",
   "execution_count": 52,
   "id": "ad20e95e",
   "metadata": {},
   "outputs": [
    {
     "data": {
      "text/plain": [
       "True"
      ]
     },
     "execution_count": 52,
     "metadata": {},
     "output_type": "execute_result"
    }
   ],
   "source": [
    "is_vowel('a')"
   ]
  },
  {
   "cell_type": "code",
   "execution_count": 53,
   "id": "9ad78ac1",
   "metadata": {},
   "outputs": [],
   "source": [
    "# define the function\n",
    "def is_consonant(m):\n",
    "# define the variable\n",
    "    if m=='a' or m=='e' or m=='i' or m=='o' or m=='u' or m=='A'or m=='E'or m=='I'or m=='O'or m=='U':\n",
    "# identify that if the variable equal to vowel, the result will return false\n",
    "        result=False\n",
    "# set the else condition that if it is not vowel\n",
    "    else:\n",
    "# the result is true\n",
    "        result=True\n",
    "# return the result\n",
    "    return result"
   ]
  },
  {
   "cell_type": "code",
   "execution_count": 54,
   "id": "546232e8",
   "metadata": {},
   "outputs": [
    {
     "data": {
      "text/plain": [
       "True"
      ]
     },
     "execution_count": 54,
     "metadata": {},
     "output_type": "execute_result"
    }
   ],
   "source": [
    "is_consonant('m')"
   ]
  },
  {
   "cell_type": "code",
   "execution_count": 55,
   "id": "e7e69e62",
   "metadata": {},
   "outputs": [
    {
     "data": {
      "text/plain": [
       "False"
      ]
     },
     "execution_count": 55,
     "metadata": {},
     "output_type": "execute_result"
    }
   ],
   "source": [
    "is_consonant('a')"
   ]
  },
  {
   "cell_type": "code",
   "execution_count": 106,
   "id": "50fbdb6a",
   "metadata": {},
   "outputs": [],
   "source": [
    "# the question asked to accept a string,when the string starts with consonant, capitalize the first word\n",
    "def word(m):\n",
    "#     for any character in the word\n",
    "    for char in str(m):\n",
    "#         if it starts iwth AEIOUaeiou, It will return a wanring and return the input\n",
    "        if char in \"AEIOUaeiou\":\n",
    "#         result equal a warning\n",
    "            result=print(\"Your first letter starts with vowel, please try again with first letter with consonant\")\n",
    "#     result equal the input\n",
    "            result=m\n",
    "#     if condition not match as above \n",
    "        else:\n",
    "#         result will return capitalize first word\n",
    "            result=m.capitalize()\n",
    "#     return the result\n",
    "        return result"
   ]
  },
  {
   "cell_type": "code",
   "execution_count": 107,
   "id": "d30ae195",
   "metadata": {},
   "outputs": [
    {
     "data": {
      "text/plain": [
       "'Word'"
      ]
     },
     "execution_count": 107,
     "metadata": {},
     "output_type": "execute_result"
    }
   ],
   "source": [
    "word('word')"
   ]
  },
  {
   "cell_type": "code",
   "execution_count": 108,
   "id": "d193f4f3",
   "metadata": {},
   "outputs": [
    {
     "name": "stdout",
     "output_type": "stream",
     "text": [
      "Your first letter starts with vowel, please try again with first letter with consonant\n"
     ]
    },
    {
     "data": {
      "text/plain": [
       "'an'"
      ]
     },
     "execution_count": 108,
     "metadata": {},
     "output_type": "execute_result"
    }
   ],
   "source": [
    "word(\"an\")"
   ]
  },
  {
   "cell_type": "code",
   "execution_count": 126,
   "id": "6af7f9f1",
   "metadata": {},
   "outputs": [],
   "source": [
    "# create a function to define the calculate_tip\n",
    "def calculate_tip(tip,total):\n",
    "#     create condition that if tip amount is greater than 1 or less than 0\n",
    "    if tip<0 or tip>1:\n",
    "#         the result will print out a message\n",
    "        result=print('please enter a tip percentage number between 0-1')\n",
    "#    if the above condition is not met\n",
    "    else:\n",
    "#       the result will return tip times total\n",
    "        result=tip*total\n",
    "#     return the result \n",
    "    return result"
   ]
  },
  {
   "cell_type": "code",
   "execution_count": 127,
   "id": "72b761ac",
   "metadata": {},
   "outputs": [
    {
     "data": {
      "text/plain": [
       "5.635000000000001"
      ]
     },
     "execution_count": 127,
     "metadata": {},
     "output_type": "execute_result"
    }
   ],
   "source": [
    "calculate_tip(0.23,24.5)"
   ]
  },
  {
   "cell_type": "code",
   "execution_count": 128,
   "id": "f87dfec4",
   "metadata": {},
   "outputs": [
    {
     "name": "stdout",
     "output_type": "stream",
     "text": [
      "please enter a tip percentage number between 0-1\n"
     ]
    }
   ],
   "source": [
    "calculate_tip(1.23,24.5)"
   ]
  },
  {
   "cell_type": "code",
   "execution_count": 135,
   "id": "158a7013",
   "metadata": {},
   "outputs": [],
   "source": [
    "# create a function that can apply the discount\n",
    "def apply_discount(discount,total):\n",
    "#    create a condition about the discount percentage\n",
    "    if discount<0 or discount>1:\n",
    "#         the result will print out a message\n",
    "        result=print('please enter a discount percentage number between 0-1')\n",
    "#    if the above condition is not met\n",
    "    else:\n",
    "#         the result should return total minus discounted price\n",
    "        result=total-discount*total\n",
    "#     return discount price\n",
    "    return result\n"
   ]
  },
  {
   "cell_type": "code",
   "execution_count": 137,
   "id": "b33f9678",
   "metadata": {},
   "outputs": [
    {
     "data": {
      "text/plain": [
       "20.7"
      ]
     },
     "execution_count": 137,
     "metadata": {},
     "output_type": "execute_result"
    }
   ],
   "source": [
    "apply_discount(.10,23)"
   ]
  },
  {
   "cell_type": "code",
   "execution_count": 138,
   "id": "23039f2f",
   "metadata": {},
   "outputs": [
    {
     "name": "stdout",
     "output_type": "stream",
     "text": [
      "please enter a discount percentage number between 0-1\n"
     ]
    }
   ],
   "source": [
    "apply_discount(1.10,23)"
   ]
  },
  {
   "cell_type": "code",
   "execution_count": 141,
   "id": "0bb02790",
   "metadata": {},
   "outputs": [],
   "source": [
    "# create a function to define handle_commas\n",
    "def handle_commas(m):\n",
    "#     set condtion that any char in m\n",
    "    for char in m:\n",
    "#         that that char contains letter\n",
    "        if char in\"ABCDEFGHIJKLMNOPQRSTUVWXYZabcdefjhijklmnopqrstuvwxyz\":\n",
    "#         it will print a message\n",
    "            mm=print('please input number')\n",
    "#     else it will return the wanted result\n",
    "        else:\n",
    "#         using .replace to repalce \",\" with no result in order to remove \",\"\n",
    "            mm=m.replace(\",\",\"\")\n",
    "#     return the result\n",
    "    return mm"
   ]
  },
  {
   "cell_type": "code",
   "execution_count": 142,
   "id": "a9701303",
   "metadata": {},
   "outputs": [
    {
     "data": {
      "text/plain": [
       "'21'"
      ]
     },
     "execution_count": 142,
     "metadata": {},
     "output_type": "execute_result"
    }
   ],
   "source": [
    "handle_commas('21,')"
   ]
  },
  {
   "cell_type": "code",
   "execution_count": 145,
   "id": "8acb81a0",
   "metadata": {},
   "outputs": [
    {
     "name": "stdout",
     "output_type": "stream",
     "text": [
      "please input number\n",
      "please input number\n",
      "please input number\n"
     ]
    }
   ],
   "source": [
    "handle_commas(\"asa\")"
   ]
  },
  {
   "cell_type": "code",
   "execution_count": 146,
   "id": "5e253374",
   "metadata": {},
   "outputs": [
    {
     "data": {
      "text/plain": [
       "'12121832'"
      ]
     },
     "execution_count": 146,
     "metadata": {},
     "output_type": "execute_result"
    }
   ],
   "source": [
    "handle_commas(\"12,121,832\")"
   ]
  },
  {
   "cell_type": "code",
   "execution_count": 194,
   "id": "5a0d5a57",
   "metadata": {},
   "outputs": [],
   "source": [
    "# create a function to get a letter grade\n",
    "def get_letter_grade(m):\n",
    "#     set letter grade condition for A\n",
    "    if m<=100 and m>=90:\n",
    "#         if condition met, the result will print the message\n",
    "        result=print('letter grade is A')\n",
    "#     else it will run to second condition\n",
    "    elif m<90 and m>=80:\n",
    "#         if the second condition met, it will print the message\n",
    "        result=print('letter grade is B')\n",
    "#     if second is not met, it will run the third condition\n",
    "    elif m<80 and m>=70:\n",
    "#         if the third condition is met, print the message\n",
    "        result=print('letter grade is C')\n",
    "#     if the third condition is not met, try fourth condition\n",
    "    elif m<70 and m>=60:\n",
    "#         then print the fourth condition if it is met\n",
    "        result=print('letter grade is D')\n",
    "#     else it will return other message\n",
    "    else:\n",
    "#         set what other message\n",
    "        result=print('You failed')\n",
    "#     finanlly retunr the result\n",
    "    return result"
   ]
  },
  {
   "cell_type": "code",
   "execution_count": 195,
   "id": "4332f5c6",
   "metadata": {},
   "outputs": [
    {
     "name": "stdout",
     "output_type": "stream",
     "text": [
      "letter grade is A\n"
     ]
    }
   ],
   "source": [
    "get_letter_grade(90)"
   ]
  },
  {
   "cell_type": "code",
   "execution_count": 196,
   "id": "88734a49",
   "metadata": {},
   "outputs": [
    {
     "name": "stdout",
     "output_type": "stream",
     "text": [
      "letter grade is B\n"
     ]
    }
   ],
   "source": [
    "get_letter_grade(80)"
   ]
  },
  {
   "cell_type": "code",
   "execution_count": 197,
   "id": "9468dc00",
   "metadata": {},
   "outputs": [
    {
     "name": "stdout",
     "output_type": "stream",
     "text": [
      "You failed\n"
     ]
    }
   ],
   "source": [
    "get_letter_grade(0)"
   ]
  },
  {
   "cell_type": "code",
   "execution_count": 342,
   "id": "5b6bab50",
   "metadata": {},
   "outputs": [],
   "source": [
    "# create a funciton that will remove vowel in a string\n",
    "def remove_vowel(string):\n",
    "    #     for any character in the string\n",
    "    char = ('A''E''I''O''U''a''e''i''o''u')\n",
    "#         if it starts iwth AEIOUaeiou, It will return a wanring and return the input\n",
    "    for x in string:\n",
    "        if x in char:\n",
    "            newchar=string.replace(x,'')\n",
    "    return newchar"
   ]
  },
  {
   "cell_type": "code",
   "execution_count": 343,
   "id": "df20f48e",
   "metadata": {},
   "outputs": [
    {
     "data": {
      "text/plain": [
       "'Jly'"
      ]
     },
     "execution_count": 343,
     "metadata": {},
     "output_type": "execute_result"
    }
   ],
   "source": [
    "remove_vowel('July')"
   ]
  },
  {
   "cell_type": "code",
   "execution_count": 344,
   "id": "5311d829",
   "metadata": {},
   "outputs": [
    {
     "data": {
      "text/plain": [
       "'strng'"
      ]
     },
     "execution_count": 344,
     "metadata": {},
     "output_type": "execute_result"
    }
   ],
   "source": [
    "remove_vowel('string')"
   ]
  },
  {
   "cell_type": "code",
   "execution_count": 384,
   "id": "2888fbbb",
   "metadata": {},
   "outputs": [],
   "source": [
    "import re\n",
    "def normalize_name(m):\n",
    "    m=re.sub(r\"[^a-z0-9 ]\",\"\",m.lower())\n",
    "    for mm in m:\n",
    "        mm=m.replace(' ','_')\n",
    "        return mm"
   ]
  },
  {
   "cell_type": "code",
   "execution_count": 440,
   "id": "6d8bc2ba",
   "metadata": {},
   "outputs": [
    {
     "data": {
      "text/plain": [
       "'mdakl_jqwk_am_'"
      ]
     },
     "execution_count": 440,
     "metadata": {},
     "output_type": "execute_result"
    }
   ],
   "source": [
    "normalize_name('%Mdakl; jQwk am ')"
   ]
  },
  {
   "cell_type": "code",
   "execution_count": 441,
   "id": "cfa3ecdf",
   "metadata": {},
   "outputs": [
    {
     "ename": "SyntaxError",
     "evalue": "invalid syntax (1675080442.py, line 5)",
     "output_type": "error",
     "traceback": [
      "\u001b[0;36m  Input \u001b[0;32mIn [441]\u001b[0;36m\u001b[0m\n\u001b[0;31m    item[]\u001b[0m\n\u001b[0m         ^\u001b[0m\n\u001b[0;31mSyntaxError\u001b[0m\u001b[0;31m:\u001b[0m invalid syntax\n"
     ]
    }
   ],
   "source": [
    "from itertools import accumulate\n",
    "        return item"
   ]
  },
  {
   "cell_type": "code",
   "execution_count": 430,
   "id": "5b8c315f",
   "metadata": {},
   "outputs": [
    {
     "ename": "TypeError",
     "evalue": "cumulative_sum() takes 1 positional argument but 3 were given",
     "output_type": "error",
     "traceback": [
      "\u001b[0;31m---------------------------------------------------------------------------\u001b[0m",
      "\u001b[0;31mTypeError\u001b[0m                                 Traceback (most recent call last)",
      "Input \u001b[0;32mIn [430]\u001b[0m, in \u001b[0;36m<cell line: 1>\u001b[0;34m()\u001b[0m\n\u001b[0;32m----> 1\u001b[0m \u001b[43mcumulative_sum\u001b[49m\u001b[43m(\u001b[49m\u001b[38;5;241;43m3\u001b[39;49m\u001b[43m,\u001b[49m\u001b[38;5;241;43m9\u001b[39;49m\u001b[43m,\u001b[49m\u001b[38;5;241;43m7\u001b[39;49m\u001b[43m)\u001b[49m\n",
      "\u001b[0;31mTypeError\u001b[0m: cumulative_sum() takes 1 positional argument but 3 were given"
     ]
    }
   ],
   "source": [
    "cumulative_sum(3,9,7)"
   ]
  },
  {
   "cell_type": "code",
   "execution_count": 436,
   "id": "6a2c3103",
   "metadata": {},
   "outputs": [],
   "source": []
  },
  {
   "cell_type": "code",
   "execution_count": 437,
   "id": "81bd2a10",
   "metadata": {},
   "outputs": [
    {
     "ename": "TypeError",
     "evalue": "cumulative_sum() takes 1 positional argument but 3 were given",
     "output_type": "error",
     "traceback": [
      "\u001b[0;31m---------------------------------------------------------------------------\u001b[0m",
      "\u001b[0;31mTypeError\u001b[0m                                 Traceback (most recent call last)",
      "Input \u001b[0;32mIn [437]\u001b[0m, in \u001b[0;36m<cell line: 1>\u001b[0;34m()\u001b[0m\n\u001b[0;32m----> 1\u001b[0m \u001b[43mcumulative_sum\u001b[49m\u001b[43m(\u001b[49m\u001b[38;5;241;43m3\u001b[39;49m\u001b[43m,\u001b[49m\u001b[38;5;241;43m9\u001b[39;49m\u001b[43m,\u001b[49m\u001b[38;5;241;43m7\u001b[39;49m\u001b[43m)\u001b[49m\n",
      "\u001b[0;31mTypeError\u001b[0m: cumulative_sum() takes 1 positional argument but 3 were given"
     ]
    }
   ],
   "source": []
  },
  {
   "cell_type": "code",
   "execution_count": null,
   "id": "0bb26714",
   "metadata": {},
   "outputs": [],
   "source": []
  }
 ],
 "metadata": {
  "kernelspec": {
   "display_name": "Python 3 (ipykernel)",
   "language": "python",
   "name": "python3"
  },
  "language_info": {
   "codemirror_mode": {
    "name": "ipython",
    "version": 3
   },
   "file_extension": ".py",
   "mimetype": "text/x-python",
   "name": "python",
   "nbconvert_exporter": "python",
   "pygments_lexer": "ipython3",
   "version": "3.9.12"
  }
 },
 "nbformat": 4,
 "nbformat_minor": 5
}
